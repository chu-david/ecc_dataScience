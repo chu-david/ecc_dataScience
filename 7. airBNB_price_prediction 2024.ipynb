{
 "cells": [
  {
   "cell_type": "code",
   "execution_count": null,
   "metadata": {},
   "outputs": [],
   "source": [
    "#https://public.opendatasoft.com/explore/dataset/airbnb-listings/export/?disjunctive.host_verifications&disjunctive.amenities&disjunctive.features&q=sydney&refine.country=Australia&refine.city=Sydney&location=10,-33.85368,151.12545&basemap=jawg.light\n",
    "print('initialising')\n",
    "#Displays \"initialising\" when collecting all the data\n",
    "import pandas as pd\n",
    "import seaborn as sns\n",
    "import matplotlib.pyplot as plt\n",
    "#imporing Modules\n",
    "from sklearn.linear_model import LogisticRegression\n",
    "from sklearn.linear_model import LinearRegression\n",
    "from sklearn.model_selection import train_test_split\n",
    "from sklearn.metrics import accuracy_score\n",
    "from collections import Counter\n",
    "from sklearn.preprocessing import MinMaxScaler\n",
    "#Imports classes from libraries\n",
    "\n"
   ]
  },
  {
   "cell_type": "code",
   "execution_count": null,
   "metadata": {},
   "outputs": [],
   "source": [
    "df = pd.read_csv(\"assets/sydneyAirBnB.csv\", encoding='latin-1')\n",
    "#Reading the Sydney AirBnB.csv\n",
    "\n",
    "#len(df.columns)\n",
    "#df.dtypes\n",
    "#df.info()\n",
    "\n",
    "#Displays what form the data is in for each column"
   ]
  },
  {
   "attachments": {},
   "cell_type": "markdown",
   "metadata": {},
   "source": [
    "Drop Categorical Data less relevant to the expected outcome"
   ]
  },
  {
   "cell_type": "code",
   "execution_count": null,
   "metadata": {},
   "outputs": [],
   "source": [
    "reduced = df.drop(columns=[\"Neighbourhood\",\"Square Feet\",\"Calendar Updated\",\"Calendar last Scraped\",\"Availability 30\",\"Weekly Price\",\"Monthly Price\",\"Has Availability\",\"First Review\",\"Last Review\",\"Cancellation Policy\",\"Jurisdiction Names\",\"License\",\"Smart Location\",\"Country\",\"Country Code\",\"Market\",\"Zipcode\",\"Host Acceptance Rate\",\"State\",\"Neighbourhood Cleansed\",\"Neighbourhood Group Cleansed\",\"City\",\"Host Verifications\",\"Street\",'ID','Listing Url','Scrape ID','Last Scraped','Name','Summary','Space','Description','Experiences Offered',\"Neighborhood Overview\",\"Notes\",\"Transit\",\"Host Response Time\",\"Host Thumbnail Url\",\"Host Picture Url\",\"Host Neighbourhood\",\"Access\",\"Interaction\",\"House Rules\",\"Thumbnail Url\",\"Medium Url\",\"Picture Url\",\"XL Picture Url\",\"Host ID\",\"Host URL\",\"Host Name\",\"Host Since\",\"Host Location\",\"Host About\",\"Host Thumbnail Url\",\"Availability 60\",\"Availability 90\",\"Geolocation\",\"Features\"],axis=1)\n",
    "reduced=reduced.dropna()\n",
    "\n",
    "reduced.info()\n",
    "#displays Data"
   ]
  },
  {
   "attachments": {},
   "cell_type": "markdown",
   "metadata": {},
   "source": [
    "Pearson Correlation of Features to see what has higher influence on price"
   ]
  },
  {
   "cell_type": "code",
   "execution_count": null,
   "metadata": {},
   "outputs": [],
   "source": [
    "plt.figure(figsize=(14,12))\n",
    "plt.title('Pearson Correlation of Features')\n",
    "sns.heatmap(reduced.corr(), linewidths=1,\n",
    "           square=True, cmap='RdBu', linecolor='white', annot=True)"
   ]
  },
  {
   "attachments": {},
   "cell_type": "markdown",
   "metadata": {},
   "source": [
    "dummifying some key categorical features, such as \"Property Type\""
   ]
  },
  {
   "cell_type": "code",
   "execution_count": null,
   "metadata": {},
   "outputs": [],
   "source": [
    "dummified = pd.get_dummies(reduced)\n",
    "#print(reduced)\n",
    "#print(dummified)\n",
    "\n",
    "\n",
    "dummified=dummified.fillna(0)\n",
    "\n",
    "dummified = dummified.astype({\"Property Type_Apartment\": 'int64', \n",
    "                              \"Property Type_Bed & Breakfast\": 'int64',\t\n",
    "                              \"Property Type_House\": 'int64',\t\n",
    "                              \"Room Type_Entire home/apt\": 'int64',\n",
    "                              \"Room Type_Private room\": 'int64', \n",
    "                              \"Room Type_Shared room\": 'int64',\n",
    "                              \"Price\":'int64'})\n",
    "\n",
    "#dummified.head()"
   ]
  },
  {
   "attachments": {},
   "cell_type": "markdown",
   "metadata": {},
   "source": [
    "The following is a different way of dummifying, where keywords are extracted from features, and used for dummification.\n",
    "\n",
    "1. Extract key words\n",
    "2. Turn it into a frequency table\n",
    "3. Sort from Descending Order - so the top X number of Features can be found\n",
    "4. Create new columns, so if certain amenities exist, the value will be 1, otherwise 0"
   ]
  },
  {
   "cell_type": "code",
   "execution_count": null,
   "metadata": {},
   "outputs": [],
   "source": [
    "amenities_list = list(reduced[\"Amenities\"])\n",
    "amenities_list_string = \" \".join(amenities_list)\n",
    "amenities_list_string = amenities_list_string.replace('{', '')\n",
    "amenities_list_string = amenities_list_string.replace('}', ',')\n",
    "amenities_list_string = amenities_list_string.replace('\"', '')\n",
    "\n",
    "amenities_set = [x.strip() for x in amenities_list_string.split(',')]\n",
    "#amenities_set = set(amenities_set)\n",
    "#print(amenities_set)\n",
    "\n",
    "counter = Counter(amenities_set)\n",
    "\n",
    "data = {\"Amenities\": counter.keys(), \"freq\":counter.values()}\n",
    "freq_table = pd.DataFrame(data)\n",
    "#print(counter)\n",
    "freq_table = freq_table.sort_values(by=['freq'],ascending=False).head(20)\n",
    "\n",
    "#top 20 amenities\n",
    "\n",
    "for i in range(20):\n",
    "    Amenity = freq_table.iloc[i]['Amenities']\n",
    "    #print(Amenity)\n",
    "    \n",
    "    dummified.loc[reduced['Amenities'].str.contains(Amenity),\"amenities: \"+Amenity] = int(1);\n",
    "    \n",
    "\n",
    "dummified = dummified.fillna(0)\n",
    "\n",
    "dummified.head()\n",
    "\n",
    "dummified.dtypes"
   ]
  },
  {
   "attachments": {},
   "cell_type": "markdown",
   "metadata": {},
   "source": [
    "Final Data inspection - this can be exported to csv by un-commenting the first line under (dummified.to_csv)"
   ]
  },
  {
   "cell_type": "code",
   "execution_count": null,
   "metadata": {},
   "outputs": [],
   "source": [
    "dummified.to_csv('data.csv', index=False)\n",
    "dummified.dtypes"
   ]
  },
  {
   "attachments": {},
   "cell_type": "markdown",
   "metadata": {},
   "source": [
    "This is the heart of this analysis - machine learning.\n",
    "\n",
    "The following uses the simplest machine learning - Linear Regression.\n",
    "\n",
    "Accuracy is the R^2 value -> the closer to 1, the better.\n",
    "\n",
    "The plot is the predicted value vs actual value."
   ]
  },
  {
   "cell_type": "code",
   "execution_count": null,
   "metadata": {},
   "outputs": [],
   "source": [
    "scaler = MinMaxScaler()\n",
    "targetVar = \"Price\"\n",
    "\n",
    "x = dummified.drop(targetVar, axis=1)\n",
    "y = dummified[targetVar]\n",
    "\n",
    "x_train, x_test, y_train, y_test = train_test_split(x,y,random_state=42,test_size=0.2)\n",
    "\n",
    "model = LinearRegression()\n",
    "\n",
    "#model = KNeighborsClassifier(n_neighbors=10)\n",
    "model.fit(x_train, y_train)\\\n",
    "\n",
    "# Evaluate the model on the test data\n",
    "accuracy = model.score(x_test, y_test)\n",
    "\n",
    "print(\"accuracy: \")\n",
    "print(accuracy)\n",
    "\n",
    "# Predict Response corresponding to Predictors\n",
    "trainPredictionLR = model.predict(x_train)\n",
    "testPredictionLR = model.predict(x_test)\n",
    "\n",
    "# Plot the Predictions vs the True values\n",
    "\n",
    "f, axes = plt.subplots(1, 2, figsize=(24, 12))\n",
    "axes[0].scatter(y_train, trainPredictionLR, color = \"blue\")\n",
    "axes[0].plot(y_train, y_train, 'g-', linewidth = 1)\n",
    "axes[0].set_xlabel(\"True values of the Response Variable (Train)\")\n",
    "axes[0].set_ylabel(\"Predicted values of the Response Variable (Train)\")\n",
    "axes[1].scatter(y_test, testPredictionLR, color = \"red\")\n",
    "axes[1].plot(y_test, y_test, 'g-', linewidth = 1)\n",
    "axes[1].set_xlabel(\"True values of the Response Variable (Test)\")\n",
    "axes[1].set_ylabel(\"Predicted values of the Response Variable (Test)\")\n",
    "\n"
   ]
  },
  {
   "attachments": {},
   "cell_type": "markdown",
   "metadata": {},
   "source": [
    "Can you improve from this?\n",
    "\n",
    "- inspect initial columns omitted - could some of them have additional value?\n",
    "- Following Pearson Correlation - are there some minor factors that can be brought back?\n",
    "\n",
    "- We only considered top 20 amenities. What are some other columns that can be further dummified?"
   ]
  }
 ],
 "metadata": {
  "kernelspec": {
   "display_name": "Python 3",
   "language": "python",
   "name": "python3"
  },
  "language_info": {
   "codemirror_mode": {
    "name": "ipython",
    "version": 3
   },
   "file_extension": ".py",
   "mimetype": "text/x-python",
   "name": "python",
   "nbconvert_exporter": "python",
   "pygments_lexer": "ipython3",
   "version": "3.11.2"
  },
  "orig_nbformat": 4
 },
 "nbformat": 4,
 "nbformat_minor": 2
}
