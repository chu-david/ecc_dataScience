{
 "cells": [
  {
   "attachments": {},
   "cell_type": "markdown",
   "metadata": {},
   "source": [
    "The following code is in javascript, convert this to Python according to the workbook\n",
    "\n",
    "let finalNumber = 5\n",
    "\n",
    "for(let i=0;i<finalNumber;i++){\n",
    "\n",
    "    if( finalNumber < 3){\n",
    "\n",
    "          console.log(“does not qualify”);\n",
    "    } else if(finalNumber < 4){\n",
    "\n",
    "         console.log(“qualified”);\n",
    "   }else{\n",
    "\n",
    "        console.log(“does not qualify”);\n",
    "   }\n",
    "\n",
    "}\n",
    "Main considerations:\n",
    "\n",
    "Indentation instead of brackets\n",
    "Different syntax for if statements and loops\n",
    "\n"
   ]
  },
  {
   "cell_type": "code",
   "execution_count": null,
   "metadata": {},
   "outputs": [],
   "source": [
    "#start writing python code here"
   ]
  }
 ],
 "metadata": {
  "language_info": {
   "name": "python"
  },
  "orig_nbformat": 4
 },
 "nbformat": 4,
 "nbformat_minor": 2
}
